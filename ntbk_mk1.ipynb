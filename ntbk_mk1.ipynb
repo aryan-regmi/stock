{
 "cells": [
  {
   "cell_type": "code",
   "execution_count": 53,
   "metadata": {},
   "outputs": [],
   "source": [
    "import yfinance as yf\n",
    "import matplotlib.pyplot as plt\n",
    "import seaborn as sns\n",
    "import numpy as np\n",
    "from statistics import mean\n",
    "from dateutil.relativedelta import relativedelta\n",
    "import pickle\n",
    "import os.path\n",
    "import time"
   ]
  },
  {
   "cell_type": "code",
   "execution_count": 58,
   "metadata": {},
   "outputs": [],
   "source": [
    "class Stocks:\n",
    "    \"\"\"\n",
    "        Class defining operations for visulazing and valuating specified stocks\n",
    "    \"\"\"    \n",
    "    def __init__(self, ticker: str, time_period: str):\n",
    "        self.__fid = ticker.upper() + '.stock'\n",
    "        self._period = time_period\n",
    "        \n",
    "        if not os.path.isfile(self.__fid):\n",
    "            self._ticker = yf.Ticker(ticker)\n",
    "            with open(self.__fid, 'wb') as f:\n",
    "                pickle.dump(self._ticker, f)\n",
    "        else:\n",
    "            with open(self.__fid, 'rb') as f:\n",
    "                self._ticker = pickle.load(f)                    \n",
    "    \n",
    "    def _get_hist(self):\n",
    "        \"\"\"\n",
    "            Gets Historical Data for Specified Period\n",
    "        \"\"\"\n",
    "        return self._ticker.history(self._period)\n",
    "        \n",
    "    def _close_price_analysis(self):\n",
    "        \"\"\"\n",
    "            Extract and Analyze Close Price Data\n",
    "            @return:\n",
    "                close_price: Historical Close Price [$]\n",
    "                close_price_vel: Change in Close Price (Close Price Velocity) [$]\n",
    "                avg_close_vel: Average Change in Close Price [$]\n",
    "                num_data: Number of Data Points\n",
    "        \"\"\"\n",
    "        close_price = self._get_hist()['Close']  # Close Prices [$]\n",
    "        \n",
    "        num_data = len(close_price)  # Number of Data Points\n",
    "        \n",
    "        # Change in Close Price (Velocity of Close Price)\n",
    "        close_price_vel = np.diff(close_price, n=1, axis=0)  # [$]\n",
    "        avg_close_vel = mean(close_price_vel)  # Average Close Price Growth [$]\n",
    "        \n",
    "        return close_price, close_price_vel, avg_close_vel, num_data\n",
    "    \n",
    "    def _close_price_best_fit(self, fitting_data, fit_degree: int):\n",
    "        \"\"\"\n",
    "            Calculates Best-Fit Line for Close Price\n",
    "            @return: Polynomial describing best-fit curve\n",
    "        \"\"\"\n",
    "        close_price, close_price_vel,\\\n",
    "        avg_close_vel, num_data = self._close_price_analysis()\n",
    "        \n",
    "        time_vector = np.linspace(0, num_data, num_data)\n",
    "        \n",
    "        # Calculate Polynomial and Coefficients\n",
    "        poly_coeff = np.polyfit(time_vector, fitting_data, fit_degree)\n",
    "        poly = np.poly1d(poly_coeff)\n",
    "        \n",
    "        return poly\n",
    "    \n",
    "    def _eps_predict(self):\n",
    "        \"\"\"\n",
    "            Predict Price using EPS Growth\n",
    "        \"\"\"\n",
    "        trail_eps = self._ticker.info['trailingEps']\n",
    "        \n",
    "        peg = self._ticker.info['pegRatio']  # (Price/EPS)/EPS Growth\n",
    "        \n",
    "        p_e = self._ticker.info['regularMarketPrice'] / trail_eps  # Price-to-Earnings\n",
    "        \n",
    "        eps_growth = p_e / peg  # EPS Growth Rate [percentange]\n",
    "        \n",
    "        print(eps_growth)\n",
    "        \n",
    "        \n",
    "        \n",
    "        "
   ]
  },
  {
   "cell_type": "markdown",
   "metadata": {},
   "source": [
    "### Testing Functionality:"
   ]
  },
  {
   "cell_type": "code",
   "execution_count": 59,
   "metadata": {},
   "outputs": [],
   "source": [
    "symbol = 'AAPL'\n",
    "\n",
    "time_period = 'max'\n",
    "\n",
    "st = Stocks(symbol, time_period)"
   ]
  },
  {
   "cell_type": "code",
   "execution_count": 60,
   "metadata": {},
   "outputs": [],
   "source": [
    "close_price, close_prc_vel, avg_close_vel, num_data = st._close_price_analysis()\n",
    "\n",
    "st._close_price_best_fit(close_price,2);"
   ]
  },
  {
   "cell_type": "code",
   "execution_count": 61,
   "metadata": {},
   "outputs": [
    {
     "name": "stdout",
     "output_type": "stream",
     "text": [
      "11.068213664248812\n"
     ]
    }
   ],
   "source": [
    "st._eps_predict()"
   ]
  },
  {
   "cell_type": "code",
   "execution_count": null,
   "metadata": {},
   "outputs": [],
   "source": []
  }
 ],
 "metadata": {
  "kernelspec": {
   "display_name": "Python 3",
   "language": "python",
   "name": "python3"
  },
  "language_info": {
   "codemirror_mode": {
    "name": "ipython",
    "version": 3
   },
   "file_extension": ".py",
   "mimetype": "text/x-python",
   "name": "python",
   "nbconvert_exporter": "python",
   "pygments_lexer": "ipython3",
   "version": "3.8.2"
  }
 },
 "nbformat": 4,
 "nbformat_minor": 4
}
