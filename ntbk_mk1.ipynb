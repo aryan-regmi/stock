{
 "cells": [
  {
   "cell_type": "code",
   "execution_count": 1,
   "metadata": {},
   "outputs": [
    {
     "name": "stderr",
     "output_type": "stream",
     "text": [
      "Matplotlib is building the font cache; this may take a moment.\n"
     ]
    }
   ],
   "source": [
    "import yfinance as yf\n",
    "import matplotlib.pyplot as plt\n",
    "import seaborn as sns\n",
    "import numpy as np\n",
    "from statistics import mean\n",
    "from dateutil.relativedelta import relativedelta\n",
    "import pickle\n",
    "import os.path\n",
    "import time"
   ]
  },
  {
   "cell_type": "code",
   "execution_count": 42,
   "metadata": {},
   "outputs": [],
   "source": [
    "class Stocks:\n",
    "    \"\"\"\n",
    "        Class defining operations for visulazing and valuating specified stocks\n",
    "    \"\"\"    \n",
    "    def __init__(self, ticker: str, time_period: str):\n",
    "        self._ticker = yf.Ticker(ticker)\n",
    "        self._period = time_period\n",
    "        \n",
    "    \n",
    "    def _get_hist(self):\n",
    "        \"\"\"\n",
    "            Gets Historical Data for Specified Period\n",
    "        \"\"\"\n",
    "        return self._ticker.history(self._period)\n",
    "        \n",
    "    def _close_price_analysis(self):\n",
    "        close_price = self._get_hist()['Close']  # Close Prices [$]\n",
    "        \n",
    "        num_data = len(close_price)  # Number of Data Points\n",
    "        \n",
    "        # Change in Close Price (Velocity of Close Price)\n",
    "        close_price_vel = np.diff(close_price, n=1, axis=0)  # [$]\n",
    "        avg_close_vel = mean(close_price_vel)  # Average Close Price Growth [$]\n",
    "        \n",
    "        return close_price, close_price_vel, avg_close_vel, num_data\n",
    "    \n",
    "    def _close_price_best_fit(self, fitting_data, fit_degree: int):\n",
    "        close_price, close_price_vel,\\\n",
    "        avg_close_vel, num_data = self._close_price_analysis()\n",
    "        \n",
    "        time_vector = np.linspace(0, num_data, num_data)\n",
    "        \n",
    "        # Calculate Polynomial and Coefficients\n",
    "        poly_coeff = np.polyfit(time_vector, fitting_data, fit_degree)\n",
    "        poly = np.poly1d(poly_coeff)\n",
    "        \n",
    "        return poly\n",
    "\n",
    "\n",
    "        "
   ]
  },
  {
   "cell_type": "markdown",
   "metadata": {},
   "source": [
    "### Testing Functionality:"
   ]
  },
  {
   "cell_type": "code",
   "execution_count": 43,
   "metadata": {},
   "outputs": [],
   "source": [
    "symbol = 'AAPL'\n",
    "\n",
    "time_period = 'max'\n",
    "\n",
    "st = Stocks(symbol, time_period)"
   ]
  },
  {
   "cell_type": "code",
   "execution_count": 44,
   "metadata": {},
   "outputs": [
    {
     "data": {
      "text/plain": [
       "poly1d([ 4.82614913e-06, -3.28203685e-02,  3.63163729e+01])"
      ]
     },
     "execution_count": 44,
     "metadata": {},
     "output_type": "execute_result"
    }
   ],
   "source": [
    "close_price, close_prc_vel, avg_close_vel, num_data = st._close_price_analysis()\n",
    "\n",
    "st._close_price_best_fit(close_price,2)"
   ]
  },
  {
   "cell_type": "code",
   "execution_count": null,
   "metadata": {},
   "outputs": [],
   "source": []
  }
 ],
 "metadata": {
  "kernelspec": {
   "display_name": "Python 3",
   "language": "python",
   "name": "python3"
  },
  "language_info": {
   "codemirror_mode": {
    "name": "ipython",
    "version": 3
   },
   "file_extension": ".py",
   "mimetype": "text/x-python",
   "name": "python",
   "nbconvert_exporter": "python",
   "pygments_lexer": "ipython3",
   "version": "3.8.5"
  }
 },
 "nbformat": 4,
 "nbformat_minor": 4
}
